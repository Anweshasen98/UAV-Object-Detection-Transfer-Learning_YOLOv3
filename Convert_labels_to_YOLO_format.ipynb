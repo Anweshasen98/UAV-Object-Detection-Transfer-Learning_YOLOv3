{
  "nbformat": 4,
  "nbformat_minor": 0,
  "metadata": {
    "colab": {
      "provenance": [],
      "include_colab_link": true
    },
    "kernelspec": {
      "name": "python3",
      "display_name": "Python 3"
    },
    "language_info": {
      "name": "python"
    }
  },
  "cells": [
    {
      "cell_type": "markdown",
      "metadata": {
        "id": "view-in-github",
        "colab_type": "text"
      },
      "source": [
        "<a href=\"https://colab.research.google.com/github/Anweshasen98/UAV-Object-Detection-Transfer-Learning_YOLOv8/blob/main/Convert_labels_to_YOLO_format.ipynb\" target=\"_parent\"><img src=\"https://colab.research.google.com/assets/colab-badge.svg\" alt=\"Open In Colab\"/></a>"
      ]
    },
    {
      "cell_type": "markdown",
      "source": [
        "YOLOv3 BASED OBJECT DETECTION MODEL"
      ],
      "metadata": {
        "id": "1ASnZOD1VkkN"
      }
    },
    {
      "cell_type": "markdown",
      "source": [
        "### Step 1. CONVERT LABELS TO YOLO FORMAT"
      ],
      "metadata": {
        "id": "bhg_3eUg57Or"
      }
    },
    {
      "cell_type": "code",
      "execution_count": null,
      "metadata": {
        "id": "jU8XiKkxJDQR",
        "colab": {
          "base_uri": "https://localhost:8080/"
        },
        "outputId": "820aec28-4983-4e10-b186-355e348ce024"
      },
      "outputs": [
        {
          "output_type": "stream",
          "name": "stdout",
          "text": [
            "Mounted at /content/gdrive\n"
          ]
        }
      ],
      "source": [
        "from google.colab import drive\n",
        "drive.mount('/content/gdrive')"
      ]
    },
    {
      "cell_type": "code",
      "source": [
        "from google.colab import drive\n",
        "import os\n",
        "from PIL import Image\n"
      ],
      "metadata": {
        "id": "T4kSudTgOu87"
      },
      "execution_count": null,
      "outputs": []
    },
    {
      "cell_type": "code",
      "source": [
        "#create new directory to store converted labels\n",
        "#!mkdir '/content/gdrive/MyDrive/yolov4/yolo_labels_new'"
      ],
      "metadata": {
        "id": "DuK4WhBcMncn"
      },
      "execution_count": null,
      "outputs": []
    },
    {
      "cell_type": "code",
      "source": [
        "\n",
        "# Define the directory paths for the labels and new YOLO labels\n",
        "label_dir = '/content/gdrive/MyDrive/yolov4/image_and_label'\n",
        "yolo_label_dir = '/content/gdrive/MyDrive/yolov4/yolo_labels_new'\n",
        "\n",
        "# Loop through all the .txt files in the label_dir\n",
        "for label_file in os.listdir(label_dir):\n",
        "    if label_file.endswith(\".txt\"):\n",
        "        # Open the corresponding .jpg file and get image width and height\n",
        "        img_file = label_file.split(\".\")[0] + \".jpg\"\n",
        "        img = Image.open(os.path.join(label_dir, img_file))\n",
        "        img_width, img_height = img.size\n",
        "\n",
        "        # Open the label file, convert to YOLO format, and write to new file\n",
        "        with open(os.path.join(label_dir, label_file), 'r') as f:\n",
        "            lines = f.readlines()\n",
        "            for line in lines:\n",
        "                values = line.strip().split(' ')\n",
        "                if len(values) != 5:\n",
        "                    print(f\"Skipping line {line} as it does not contain 5 values.\")\n",
        "                    continue\n",
        "                class_id, xmin, ymin, width, height = values\n",
        "                xmin = float(xmin)\n",
        "                ymin = float(ymin)\n",
        "                width = float(width)\n",
        "                height = float(height)\n",
        "                xcenter = (xmin + width / 2) / img_width\n",
        "                ycenter = (ymin + height / 2) / img_height\n",
        "                w = width / img_width\n",
        "                h = height / img_height\n",
        "                yolo_line = f\"{class_id} {xcenter} {ycenter} {w} {h}\\n\"\n",
        "                with open(os.path.join(yolo_label_dir, label_file), 'w') as f_yolo:\n",
        "                    f_yolo.write(yolo_line)\n"
      ],
      "metadata": {
        "id": "MeDA87tdMfry"
      },
      "execution_count": null,
      "outputs": []
    },
    {
      "cell_type": "code",
      "source": [
        "#create new directory to store converted labels\n",
        "#!mkdir '/content/gdrive/MyDrive/yolo_labels'"
      ],
      "metadata": {
        "id": "EEzkHnaWtDaa",
        "colab": {
          "base_uri": "https://localhost:8080/"
        },
        "outputId": "02103656-c8d8-4cba-c347-d0788452dca3"
      },
      "execution_count": null,
      "outputs": [
        {
          "output_type": "stream",
          "name": "stdout",
          "text": [
            "mkdir: cannot create directory ‘/content/gdrive/MyDrive/yolo_labels’: File exists\n"
          ]
        }
      ]
    },
    {
      "cell_type": "code",
      "source": [
        "#Alternate Code to verify the above code\n",
        "\n",
        "import os\n",
        "import cv2\n",
        "\n",
        "# Set the paths to the original labels and the new labels directory\n",
        "label_path = '/content/gdrive/MyDrive/label'\n",
        "yolo_label_path = '/content/gdrive/MyDrive/yolo_labels'\n",
        "\n",
        "# Create the new labels directory if it doesn't exist\n",
        "if not os.path.exists(yolo_label_path):\n",
        "    os.makedirs(yolo_label_path)\n",
        "\n",
        "# Loop through all the labels in the original labels directory\n",
        "for label_file in os.listdir(label_path):\n",
        "    # Get the full path to the label file\n",
        "    label_file_path = os.path.join(label_path, label_file)\n",
        "\n",
        "    # Open the label file\n",
        "    with open(label_file_path, 'r') as f:\n",
        "        lines = f.readlines()\n",
        "\n",
        "    # Get the image file name\n",
        "    image_file = label_file.replace('.txt', '.jpg')\n",
        "    # Get the full path to the image file\n",
        "    image_file_path = os.path.join('/content/gdrive/MyDrive/image_and_label', image_file)\n",
        "    # Load the image\n",
        "    image = cv2.imread(image_file_path)\n",
        "\n",
        "    # Create an empty list to store the new labels\n",
        "    new_labels = []\n",
        "\n",
        "    # Loop through all the lines in the label file\n",
        "    for line in lines:\n",
        "        # Split the line into parts\n",
        "        parts = line.strip().split()\n",
        "        # Get the class ID, Xmin, Ymin, Width, and Height\n",
        "        class_id = parts[0]\n",
        "        xmin = float(parts[1])\n",
        "        ymin = float(parts[2])\n",
        "        width = float(parts[3])\n",
        "        height = float(parts[4])\n",
        "\n",
        "        # Calculate the center coordinates and the width and height of the bounding box\n",
        "        xcenter = (xmin + (width / 2)) / image.shape[1]\n",
        "        ycenter = (ymin + (height / 2)) / image.shape[0]\n",
        "        width = width / image.shape[1]\n",
        "        height = height / image.shape[0]\n",
        "\n",
        "        # Append the new label to the list\n",
        "        new_labels.append(f\"{class_id} {xcenter} {ycenter} {width} {height}\\n\")\n",
        "\n",
        "    # Create the new label file name\n",
        "    new_label_file = label_file.replace('.txt', '.txt')\n",
        "    # Create the new label file path\n",
        "    new_label_file_path = os.path.join(yolo_label_path, new_label_file)\n",
        "    # Open the new label file\n",
        "    with open(new_label_file_path, 'w') as f:\n",
        "        # Write the new labels to the new label file\n",
        "        f.writelines(new_labels)\n"
      ],
      "metadata": {
        "id": "iNqdM9JlpvCs"
      },
      "execution_count": null,
      "outputs": []
    },
    {
      "cell_type": "markdown",
      "source": [
        "Labels are now in YOLO Format"
      ],
      "metadata": {
        "id": "8NzyNatd6BVK"
      }
    }
  ]
}